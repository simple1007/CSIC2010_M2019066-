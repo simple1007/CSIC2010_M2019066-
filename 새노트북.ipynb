{
 "cells": [
  {
   "cell_type": "code",
   "execution_count": 1,
   "metadata": {},
   "outputs": [],
   "source": [
    "from tensorflow import keras\n",
    "import csv\n",
    "import pickle\n",
    "\n",
    "max_len = 900 + 837\n",
    "vocab = None\n",
    "with open('vocab_char.pkl','rb') as f:\n",
    "    vocab = pickle.load(f)\n",
    "X = []\n",
    "Y = []\n",
    "\n",
    "model = keras.models.load_model(\"security\")\n",
    "\n",
    "with open('test.csv','r',encoding='utf-8') as f:\n",
    "    rd = csv.reader(f)\n",
    "\n",
    "    for line in rd:\n",
    "        # print(line)\n",
    "        x1 = list(line[0]) + ['<PAD>'] * (900 - len(line[0]))\n",
    "        x2 = list(line[1]) + ['<PAD>'] * (837 - len(line[1])) \n",
    "        x = []\n",
    "#         x = []\n",
    "        \n",
    "        for i in x1:\n",
    "            if i in vocab:\n",
    "                x.append(vocab[i])\n",
    "            else:\n",
    "                x.append(vocab['<UNK>'])\n",
    "    #             temp.append(vocab[i])\n",
    "        for i in x2:\n",
    "            if i in vocab:\n",
    "                x.append(vocab[i])\n",
    "            else:\n",
    "                x.append(vocab['<UNK>'])\n",
    "    #             temp.append(vocab[i])\n",
    "        X.append(x)\n",
    "#         for i in x1:\n",
    "#             x.append(vocab[i])\n",
    "#         for i in x2:\n",
    "#             x.append(vocab[i])\n",
    "#         X.append(x)\n",
    "        Y.append(int(line[2]))\n"
   ]
  },
  {
   "cell_type": "code",
   "execution_count": 2,
   "metadata": {},
   "outputs": [
    {
     "name": "stdout",
     "output_type": "stream",
     "text": [
      "382/382 [==============================] - 18s 44ms/step - loss: 0.2242 - accuracy: 0.8651\n",
      "[0.224191814661026, 0.865121603012085]\n"
     ]
    }
   ],
   "source": [
    "result = model.evaluate(X, Y)\n",
    "print(result)"
   ]
  },
  {
   "cell_type": "code",
   "execution_count": 3,
   "metadata": {
    "jupyter": {
     "outputs_hidden": true
    }
   },
   "outputs": [
    {
     "name": "stdout",
     "output_type": "stream",
     "text": [
      "0.8749145591250855\n"
     ]
    }
   ],
   "source": [
    "result = model.predict(X)\n",
    "# print(Y)\n",
    "from sklearn.metrics import f1_score\n",
    "# print(result)\n",
    "y_pred = []\n",
    "for index,re in enumerate(result):\n",
    "    re_ = re[0]\n",
    "    y_pred.append(round(re_))\n",
    "#     y_pred.append(i)\n",
    "\n",
    "# print(tf.constant(Y).shape)\n",
    "# print(tf.constant(y_pred).shape)\n",
    "print(f1_score(Y, y_pred))\n",
    "#     temp = Y[index]\n",
    "#     if temp == 1:\n",
    "#     if re_ < 0.5:\n",
    "#         print('anorm')\n",
    "#     else:\n",
    "#         print('norm')\n",
    "\n",
    "    "
   ]
  },
  {
   "cell_type": "code",
   "execution_count": 1,
   "metadata": {},
   "outputs": [],
   "source": [
    "from tensorflow import keras\n",
    "import csv\n",
    "import pickle\n",
    "\n",
    "max_len = 900 + 837\n",
    "vocab = None\n",
    "with open('vocab_post.pkl','rb') as f:\n",
    "    vocab = pickle.load(f)\n",
    "X = []\n",
    "Y = []\n",
    "\n",
    "model = keras.models.load_model(\"security_bigram\")\n",
    "\n",
    "with open('test.csv','r',encoding='utf-8') as f:\n",
    "    rd = csv.reader(f)\n",
    "\n",
    "    for line in rd:\n",
    "        # print(line)\n",
    "        x1 = []\n",
    "        x2 = []\n",
    "\n",
    "        for i in range(len(line[0])-1):\n",
    "            x1.append(line[0][i:i+2])\n",
    "        for i in range(len(line[1])-1):\n",
    "            x2.append(line[1][i:i+2])\n",
    "\n",
    "            \n",
    "        x1 = x1 + ['<PAD>'] * (900 - len(x1))\n",
    "        x2 = x2 + ['<PAD>'] * (837 - len(x2)) \n",
    "        x = []\n",
    "        \n",
    "        for i in x1:\n",
    "            if i in vocab:\n",
    "                x.append(vocab[i])\n",
    "            else:\n",
    "                x.append(vocab['<UNK>'])\n",
    "    #             temp.append(vocab[i])\n",
    "        for i in x2:\n",
    "            if i in vocab:\n",
    "                x.append(vocab[i])\n",
    "            else:\n",
    "                x.append(vocab['<UNK>'])\n",
    "    #             temp.append(vocab[i])\n",
    "        X.append(x)\n",
    "#         for i in x1:\n",
    "#             x.append(vocab[i])\n",
    "# #             temp.append(vocab[i])\n",
    "#         for i in x2:\n",
    "#             x.append(vocab[i])\n",
    "# #             temp.append(vocab[i])\n",
    "#         X.append(x)\n",
    "\n",
    "#         temp.append(len(x1))\n",
    "#         temp2.append(len(x2))\n",
    "        #print(line[2])\n",
    "        Y.append(int(line[2]))"
   ]
  },
  {
   "cell_type": "code",
   "execution_count": 2,
   "metadata": {},
   "outputs": [
    {
     "name": "stdout",
     "output_type": "stream",
     "text": [
      "382/382 [==============================] - 18s 44ms/step - loss: 0.0237 - accuracy: 0.9959\n",
      "[0.023664679378271103, 0.995905339717865]\n",
      "0.9965253648366921\n"
     ]
    }
   ],
   "source": [
    "#!pip3 install sklearn\n",
    "import math\n",
    "import tensorflow as tf\n",
    "from sklearn.metrics import f1_score\n",
    "from collections import defaultdict\n",
    "result = model.evaluate(X, Y)\n",
    "print(result)\n",
    "\n",
    "result = model.predict(X)\n",
    "# print(result)\n",
    "\n",
    "y_pred = []\n",
    "map = defaultdict(int)\n",
    "for i in result:\n",
    "#     print(i)\n",
    "    i = round(i[0])\n",
    "    y_pred.append(i)\n",
    "    map[i] += 1\n",
    "#     y_pred.append(i)\n",
    "\n",
    "# print(tf.constant(Y).shape)\n",
    "# print(tf.constant(y_pred).shape)\n",
    "print(f1_score(Y, y_pred))"
   ]
  },
  {
   "cell_type": "code",
   "execution_count": 8,
   "metadata": {},
   "outputs": [
    {
     "ename": "AttributeError",
     "evalue": "'Sequential' object has no attribute 'hist'",
     "output_type": "error",
     "traceback": [
      "\u001b[0;31m---------------------------------------------------------------------------\u001b[0m",
      "\u001b[0;31mAttributeError\u001b[0m                            Traceback (most recent call last)",
      "\u001b[0;32m<ipython-input-8-f9ffa97b970a>\u001b[0m in \u001b[0;36m<module>\u001b[0;34m\u001b[0m\n\u001b[1;32m      5\u001b[0m \u001b[0;31m# acc_ax = loss_ax.twinx()\u001b[0m\u001b[0;34m\u001b[0m\u001b[0;34m\u001b[0m\u001b[0;34m\u001b[0m\u001b[0m\n\u001b[1;32m      6\u001b[0m \u001b[0;34m\u001b[0m\u001b[0m\n\u001b[0;32m----> 7\u001b[0;31m \u001b[0mhist\u001b[0m \u001b[0;34m=\u001b[0m \u001b[0mmodel\u001b[0m\u001b[0;34m.\u001b[0m\u001b[0mhist\u001b[0m\u001b[0;34m\u001b[0m\u001b[0;34m\u001b[0m\u001b[0m\n\u001b[0m\u001b[1;32m      8\u001b[0m \u001b[0mtype\u001b[0m\u001b[0;34m(\u001b[0m\u001b[0mhist\u001b[0m\u001b[0;34m)\u001b[0m\u001b[0;34m\u001b[0m\u001b[0;34m\u001b[0m\u001b[0m\n\u001b[1;32m      9\u001b[0m \u001b[0;31m# q = {'param':'c reate'}\u001b[0m\u001b[0;34m\u001b[0m\u001b[0;34m\u001b[0m\u001b[0;34m\u001b[0m\u001b[0m\n",
      "\u001b[0;31mAttributeError\u001b[0m: 'Sequential' object has no attribute 'hist'"
     ]
    }
   ],
   "source": [
    "import matplotlib.pyplot as plt\n",
    "\n",
    "# fig, loss_axz = plt.subplots()\n",
    "\n",
    "# acc_ax = loss_ax.twinx()\n",
    "\n",
    "hist = model.hist\n",
    "type(hist)\n",
    "# q = {'param':'c reate'}\n",
    "\n",
    "# from urllib import parse\n",
    "\n",
    "# q = parse.urlencode(q,encoding=\"UTF-8\",doseq=True)\n",
    "# print(q)\n",
    "# rd = [['GET http://localhost:8080/img.jpg/sgdfsgd','','0']]\n",
    "# X = []\n",
    "# Y = []\n",
    "# for line in rd:\n",
    "#     # print(line)\n",
    "#     x1 = []\n",
    "#     x2 = []\n",
    "\n",
    "#     for i in range(len(line[0])-1):\n",
    "#         x1.append(line[0][i:i+2])\n",
    "#     for i in range(len(line[1])-1):\n",
    "#         x2.append(line[1][i:i+2])\n",
    "\n",
    "#     x1 = x1 + ['<PAD>'] * (900 - len(x1))\n",
    "#     x2 = x2 + ['<PAD>'] * (837 - len(x2)) \n",
    "#     x = []\n",
    "#     for i in x1:\n",
    "#         if i in vocab:\n",
    "#             x.append(vocab[i])\n",
    "#         else:\n",
    "#             x.append(vocab['<UNK>'])\n",
    "# #             temp.append(vocab[i])\n",
    "#     for i in x2:\n",
    "#         if i in vocab:\n",
    "#             x.append(vocab[i])\n",
    "#         else:\n",
    "#             x.append(vocab['<UNK>'])\n",
    "# #             temp.append(vocab[i])\n",
    "#     X.append(x)\n",
    "\n",
    "# #         temp.append(len(x1))\n",
    "# #         temp2.append(len(x2))\n",
    "#     #print(line[2])\n",
    "#     Y.append(int(line[2]))\n",
    "    \n",
    "# result = model.predict(X)\n",
    "# # print(Y)\n",
    "# for index,re in enumerate(result):\n",
    "#     re_ = re[0]\n",
    "    \n",
    "# #     temp = Y[index]\n",
    "# #     if temp == 1:\n",
    "#     if re_ < 0.5:\n",
    "#         print('anorm')\n",
    "#     else:\n",
    "#         print('norm')"
   ]
  },
  {
   "cell_type": "code",
   "execution_count": 9,
   "metadata": {},
   "outputs": [],
   "source": [
    "# print( len(result))"
   ]
  },
  {
   "cell_type": "code",
   "execution_count": 13,
   "metadata": {},
   "outputs": [
    {
     "data": {
      "text/plain": [
       "0"
      ]
     },
     "execution_count": 13,
     "metadata": {},
     "output_type": "execute_result"
    }
   ],
   "source": [
    "# round(0.5)"
   ]
  },
  {
   "cell_type": "code",
   "execution_count": null,
   "metadata": {},
   "outputs": [],
   "source": []
  }
 ],
 "metadata": {
  "kernelspec": {
   "display_name": "Python 3",
   "language": "python",
   "name": "python3"
  },
  "language_info": {
   "codemirror_mode": {
    "name": "ipython",
    "version": 2
   },
   "file_extension": ".py",
   "mimetype": "text/x-python",
   "name": "python",
   "nbconvert_exporter": "python",
   "pygments_lexer": "ipython2",
   "version": "2.7.18"
  }
 },
 "nbformat": 4,
 "nbformat_minor": 5
}
